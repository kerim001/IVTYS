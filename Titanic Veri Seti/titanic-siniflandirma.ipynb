{
 "cells": [
  {
   "cell_type": "markdown",
   "id": "fd51bf3b-c402-40fb-be60-2516ad65e9c0",
   "metadata": {},
   "source": [
    "Veriyi Yükleme ve İnceleme"
   ]
  },
  {
   "cell_type": "code",
   "execution_count": null,
   "id": "6b3bba44-27fe-4a0c-af5d-bd3f6b07ff63",
   "metadata": {},
   "outputs": [],
   "source": [
    "import pandas as pd\n",
    "\n",
    "# Veri setini yükle\n",
    "df = pd.read_csv('titanic.csv')\n",
    "\n",
    "# İlk birkaç satıra göz at\n",
    "print(df.head())\n"
   ]
  },
  {
   "cell_type": "raw",
   "id": "e44f0b82-ca0e-410e-9ba8-2afe1a1af6c0",
   "metadata": {},
   "source": [
    "Veriyi Temizleme ve Hazırlama"
   ]
  },
  {
   "cell_type": "code",
   "execution_count": null,
   "id": "a813cf21-f032-48c4-ba19-cc784cb9ff39",
   "metadata": {},
   "outputs": [],
   "source": [
    "# Boş değerlerin sayısını kontrol et\n",
    "print(df.isnull().sum())\n",
    "\n",
    "# Age ve Embarked sütunlarındaki boş değerleri doldur\n",
    "df['Age'].fillna(df['Age'].mean(), inplace=True)\n",
    "df['Embarked'].fillna(df['Embarked'].mode()[0], inplace=True)\n",
    "\n",
    "# Cabin sütununu kullanmayacağız, bu yüzden düşürüyoruz\n",
    "df.drop(columns=['Cabin'], inplace=True)\n",
    "\n",
    "# Kategorik verileri sayısal verilere dönüştür\n",
    "df = pd.get_dummies(df, columns=['Sex', 'Embarked'], drop_first=True)\n",
    "\n",
    "# İlk birkaç satıra tekrar göz at\n",
    "print(df.head())\n"
   ]
  },
  {
   "cell_type": "markdown",
   "id": "4e54d761-2597-4e35-9f23-6e143f28dd1c",
   "metadata": {},
   "source": [
    "Eğitim ve Test Verisine Ayırma"
   ]
  },
  {
   "cell_type": "code",
   "execution_count": null,
   "id": "c05ecc54-b6ab-4a0e-bf2a-b66617e604d4",
   "metadata": {},
   "outputs": [],
   "source": [
    "from sklearn.model_selection import train_test_split\n",
    "\n",
    "# Özellikler (X) ve hedef değişkeni (y) ayırma\n",
    "X = df.drop(columns=['Survived', 'Name', 'Ticket'])\n",
    "y = df['Survived']\n",
    "\n",
    "# Eğitim ve test verisi olarak ayırma\n",
    "X_train, X_test, y_train, y_test = train_test_split(X, y, test_size=0.2, random_state=42)\n"
   ]
  },
  {
   "cell_type": "markdown",
   "id": "bdd3354f-2545-454d-9561-7d612b2afea1",
   "metadata": {},
   "source": [
    " Model Seçimi ve Eğitimi"
   ]
  },
  {
   "cell_type": "code",
   "execution_count": null,
   "id": "60198f90-df5a-41e8-ae9d-30c68971fb8a",
   "metadata": {},
   "outputs": [],
   "source": [
    "from sklearn.linear_model import LogisticRegression\n",
    "\n",
    "# Modeli oluşturma\n",
    "model = LogisticRegression(max_iter=200)\n",
    "\n",
    "# Modeli eğitme\n",
    "model.fit(X_train, y_train)\n"
   ]
  },
  {
   "cell_type": "markdown",
   "id": "981a94ac-9f22-4b5c-9151-8c5795c33081",
   "metadata": {},
   "source": [
    "Modeli Değerlendirme"
   ]
  },
  {
   "cell_type": "code",
   "execution_count": null,
   "id": "938da618-966d-4e7f-9564-a13c22c3fb1f",
   "metadata": {},
   "outputs": [],
   "source": [
    "from sklearn.metrics import accuracy_score, classification_report\n",
    "\n",
    "# Test verisi üzerinde tahmin yapma\n",
    "y_pred = model.predict(X_test)\n",
    "\n",
    "# Doğruluğu hesaplama\n",
    "accuracy = accuracy_score(y_test, y_pred)\n",
    "print(f'Doğruluk: {accuracy}')\n",
    "\n",
    "# Ayrıntılı sınıflandırma raporu\n",
    "print(classification_report(y_test, y_pred))\n"
   ]
  }
 ],
 "metadata": {
  "kernelspec": {
   "display_name": "Python 3 (ipykernel)",
   "language": "python",
   "name": "python3"
  },
  "language_info": {
   "codemirror_mode": {
    "name": "ipython",
    "version": 3
   },
   "file_extension": ".py",
   "mimetype": "text/x-python",
   "name": "python",
   "nbconvert_exporter": "python",
   "pygments_lexer": "ipython3",
   "version": "3.11.5"
  }
 },
 "nbformat": 4,
 "nbformat_minor": 5
}
